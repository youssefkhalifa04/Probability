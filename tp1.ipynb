{
 "cells": [
  {
   "cell_type": "code",
   "execution_count": 28,
   "id": "df46cfc3-126d-4a51-8d9f-114ab611b5d5",
   "metadata": {},
   "outputs": [],
   "source": [
    "import statistics as st \n",
    "def creation_statistique(liste):\n",
    "    \n",
    "    \n",
    "    taille = max(liste) + 1  \n",
    "    tab = [0] * taille \n",
    "\n",
    "    for i in liste:\n",
    "        tab[i] += 1  \n",
    "\n",
    "    l = []\n",
    "    f = []\n",
    "    for index in range(len(tab)):\n",
    "        if tab[index] != 0:\n",
    "            l.append(index) \n",
    "            f.append(tab[index])\n",
    "\n",
    "    return l  , f \n",
    "    \n",
    "\n",
    "def frequence (first_list) :\n",
    "    x , y = creation_statistique(first_list)\n",
    "    lf = []\n",
    "    tot = len(first_list)\n",
    "    for i in y :\n",
    "        lf.append( i /tot)\n",
    "    return lf\n",
    "\n"
   ]
  },
  {
   "cell_type": "code",
   "execution_count": 27,
   "id": "1721e06d-e94e-4479-96f9-047b8a23d3bf",
   "metadata": {},
   "outputs": [
    {
     "name": "stdout",
     "output_type": "stream",
     "text": [
      "[0.05, 0.05, 0.1, 0.1, 0.15, 0.05, 0.15, 0.1, 0.15, 0.05, 0.05]\n"
     ]
    }
   ],
   "source": [
    "firstlist = [12, 8, 9, 7, 5, 13, 11, 9, 10, 11, 14 , 15 , 7 , 11 , 8 , 13 , 6 , 9 , 13 , 12]\n",
    "print(frequence(firstlist ))"
   ]
  },
  {
   "cell_type": "code",
   "execution_count": 30,
   "id": "f3979b92-3095-4064-a351-4ba70f7b6e0b",
   "metadata": {},
   "outputs": [
    {
     "name": "stdout",
     "output_type": "stream",
     "text": [
      "La variance est : 7.818421052631579\n"
     ]
    }
   ],
   "source": [
    "print(f\"La variance est : {st.variance(firstlist)}\")"
   ]
  },
  {
   "cell_type": "code",
   "execution_count": 31,
   "id": "0a294bd8-0b9c-4b4f-a9c8-37dfc55cf69d",
   "metadata": {},
   "outputs": [
    {
     "name": "stdout",
     "output_type": "stream",
     "text": [
      "Le mediane est : 10.5\n"
     ]
    }
   ],
   "source": [
    "print(f\"Le mediane est : {st.median(firstlist)}\")"
   ]
  },
  {
   "cell_type": "code",
   "execution_count": 32,
   "id": "cb085f60-c28c-4c89-9b61-80df17996e34",
   "metadata": {},
   "outputs": [
    {
     "name": "stdout",
     "output_type": "stream",
     "text": [
      "Le moyenne arithmitique est : 10.15\n"
     ]
    }
   ],
   "source": [
    "print(f\"Le moyenne arithmitique est : {st.mean(firstlist)}\")"
   ]
  },
  {
   "cell_type": "code",
   "execution_count": 33,
   "id": "7b69e67e-ae25-46a7-a804-ec6ff2d11c14",
   "metadata": {},
   "outputs": [
    {
     "name": "stdout",
     "output_type": "stream",
     "text": [
      "L'ecartype est : 2.7961439613567074\n"
     ]
    }
   ],
   "source": [
    "print(f\"L'ecartype est : {st.stdev(firstlist)}\")"
   ]
  },
  {
   "cell_type": "code",
   "execution_count": null,
   "id": "709574b9-44c4-4b2d-87fe-ae76549c728e",
   "metadata": {},
   "outputs": [],
   "source": []
  }
 ],
 "metadata": {
  "kernelspec": {
   "display_name": "Python 3 (ipykernel)",
   "language": "python",
   "name": "python3"
  },
  "language_info": {
   "codemirror_mode": {
    "name": "ipython",
    "version": 3
   },
   "file_extension": ".py",
   "mimetype": "text/x-python",
   "name": "python",
   "nbconvert_exporter": "python",
   "pygments_lexer": "ipython3",
   "version": "3.12.6"
  }
 },
 "nbformat": 4,
 "nbformat_minor": 5
}
